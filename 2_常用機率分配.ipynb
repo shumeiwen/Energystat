{
  "cells": [
    {
      "cell_type": "markdown",
      "metadata": {
        "id": "view-in-github",
        "colab_type": "text"
      },
      "source": [
        "<a href=\"https://colab.research.google.com/github/shumeiwen/Energystatistics/blob/main/2_%E5%B8%B8%E7%94%A8%E6%A9%9F%E7%8E%87%E5%88%86%E9%85%8D.ipynb\" target=\"_parent\"><img src=\"https://colab.research.google.com/assets/colab-badge.svg\" alt=\"Open In Colab\"/></a>"
      ]
    },
    {
      "cell_type": "markdown",
      "source": [
        "## 機率分配常用指令\n",
        "#### 引用套件\n",
        "```\n",
        "from scipy.stats import 機率分配\n",
        "```\n",
        "#### 參考資料\n",
        "- [連續型機率分配](https://docs.scipy.org/doc/scipy/reference/stats.html#continuous-distributions)\n",
        "- [離散型機率分配](https://docs.scipy.org/doc/scipy/reference/stats.html#discrete-distributions)"
      ],
      "metadata": {
        "id": "u_Yf67LYIPph"
      }
    },
    {
      "cell_type": "markdown",
      "source": [
        "#### 機率密度函數(p.d.f.)\n",
        "```\n",
        "機率分配.pmf(x,參數,loc=0)\n",
        "```"
      ],
      "metadata": {
        "id": "vU2nilxFIjGE"
      }
    },
    {
      "cell_type": "markdown",
      "source": [
        "#### 累積機率密度函數(c.d.f.)\n",
        "```\n",
        "機率分配.cdf(x,參數,loc=0)\n",
        "```"
      ],
      "metadata": {
        "id": "t3gB1cbWIxHE"
      }
    },
    {
      "cell_type": "markdown",
      "source": [
        "#### 左尾反函數\n",
        "```\n",
        "機率分配.ppf(α,參數,loc=0)\n",
        "```"
      ],
      "metadata": {
        "id": "cGykhaEeJExl"
      }
    },
    {
      "cell_type": "markdown",
      "source": [
        "#### 右尾反函數\n",
        "```\n",
        "機率分配.isf(α,參數,loc=0)\n",
        "```"
      ],
      "metadata": {
        "id": "APaP1PRkJMec"
      }
    },
    {
      "cell_type": "markdown",
      "source": [
        "#### 雙尾反函數\n",
        "```\n",
        "機率分配.interval(1-α,參數,loc=0)\n",
        "```"
      ],
      "metadata": {
        "id": "OBTgLDitJRCy"
      }
    },
    {
      "cell_type": "markdown",
      "source": [
        "#### 機率分配隨機數列\n",
        "```\n",
        "機率分配.rvs(參數,loc=0,size=1,random_state=None)\n",
        "```\n",
        "- size：產生隨機變數個數"
      ],
      "metadata": {
        "id": "bp3M0aQTJWO3"
      }
    },
    {
      "cell_type": "markdown",
      "source": [
        "## 常見機率分配"
      ],
      "metadata": {
        "id": "m2P2cQKyN_rQ"
      }
    },
    {
      "cell_type": "markdown",
      "source": [
        "#### 二項分配(binom)\n",
        "- n：實驗次數\n",
        "- p：成功機率"
      ],
      "metadata": {
        "id": "MsvxlA-rOFG7"
      }
    },
    {
      "cell_type": "markdown",
      "source": [
        "#### 波松分配(poisson)\n",
        "- mu：單位時間(或空間等)平均成功次數"
      ],
      "metadata": {
        "id": "TyHi7eeeOKXb"
      }
    },
    {
      "cell_type": "markdown",
      "source": [
        "#### 超幾何分配(hypergeom)\n",
        "- M：母體個數\n",
        "- n：母體內的成功個數\n",
        "- N：樣本數"
      ],
      "metadata": {
        "id": "CY_8c-F0OUP9"
      }
    },
    {
      "cell_type": "markdown",
      "source": [
        "#### 常態分配(norm)\n",
        "- loc：平均數\n",
        "- scale：標準差"
      ],
      "metadata": {
        "id": "UiytArlhOhL4"
      }
    },
    {
      "cell_type": "markdown",
      "source": [
        "#### t分配(t)\n",
        "- df：自由度\n",
        "- loc=0\n",
        "- scale=1"
      ],
      "metadata": {
        "id": "YZ1F4cOSOmX1"
      }
    },
    {
      "cell_type": "markdown",
      "source": [
        "#### 卡方分配(chi2)\n",
        "- df：自由度\n",
        "- loc=0\n",
        "- scale=1"
      ],
      "metadata": {
        "id": "sa0Ze5OlOq4y"
      }
    },
    {
      "cell_type": "markdown",
      "source": [
        "#### F分配(f)\n",
        "- dfn：分子自由度\n",
        "- dfd：分母自由度\n",
        "- loc=0\n",
        "- scale=1"
      ],
      "metadata": {
        "id": "gk4lLfB-Othv"
      }
    },
    {
      "cell_type": "markdown",
      "source": [
        "#### 均勻分配(uniform)\n",
        "- loc：下界\n",
        "- scale：全距\n",
        "- 均勻分配介於[loc, loc + scale]之間"
      ],
      "metadata": {
        "id": "wxsY8I5kOxhW"
      }
    },
    {
      "cell_type": "markdown",
      "source": [
        "## 程式範例"
      ],
      "metadata": {
        "id": "HYreHLouUwZc"
      }
    },
    {
      "cell_type": "code",
      "execution_count": null,
      "metadata": {
        "id": "K2sDLs3CIDTH"
      },
      "outputs": [],
      "source": [
        "from scipy.stats import norm # loc代表平均數，scale代表標準差，x代表隨機變數，alpha代表累積機率\n",
        "x=2\n",
        "\n",
        "a=norm.rvs(loc=10,scale=5,size=100,random_state=None) # 建立隨機數列\n"
      ]
    },
    {
      "cell_type": "code",
      "source": [
        "print(a.mean())\n",
        "print(a.std())"
      ],
      "metadata": {
        "colab": {
          "base_uri": "https://localhost:8080/"
        },
        "id": "9cyE5vlMs_o0",
        "outputId": "7012e9d1-1274-4291-9937-441753417807"
      },
      "execution_count": null,
      "outputs": [
        {
          "output_type": "stream",
          "name": "stdout",
          "text": [
            "9.296457607417882\n",
            "4.91861964521247\n"
          ]
        }
      ]
    },
    {
      "cell_type": "code",
      "execution_count": null,
      "metadata": {
        "id": "SVWlVSCCIDTJ",
        "outputId": "849b7624-d5a4-49de-e839-c70908a9b0f1",
        "colab": {
          "base_uri": "https://localhost:8080/"
        }
      },
      "outputs": [
        {
          "output_type": "stream",
          "name": "stdout",
          "text": [
            "0.9772498680518208\n"
          ]
        }
      ],
      "source": [
        "print(norm.cdf(x,loc=0,scale=1)) # 計算累積機率密度函數"
      ]
    },
    {
      "cell_type": "code",
      "execution_count": null,
      "metadata": {
        "id": "3eB3qgIwIDTK",
        "outputId": "aca3d3a1-502e-468a-d093-f280a91aedee",
        "colab": {
          "base_uri": "https://localhost:8080/"
        }
      },
      "outputs": [
        {
          "output_type": "stream",
          "name": "stdout",
          "text": [
            "13.289707253902945\n",
            "13.289707253902947\n",
            "(6.710292746097054, 13.289707253902945)\n"
          ]
        }
      ],
      "source": [
        "print(norm.ppf(0.95,loc=10,scale=2)) # 計算從左尾累積面積對應的X值\n",
        "print(norm.isf(0.05,loc=10,scale=2)) # 計算從右尾累積面積對應的X值\n",
        "print(norm.interval(1-0.1,loc=10,scale=2)) # 計算從雙尾累積面積對應的X值"
      ]
    }
  ],
  "metadata": {
    "kernelspec": {
      "display_name": "Python 3",
      "language": "python",
      "name": "python3"
    },
    "language_info": {
      "codemirror_mode": {
        "name": "ipython",
        "version": 3
      },
      "file_extension": ".py",
      "mimetype": "text/x-python",
      "name": "python",
      "nbconvert_exporter": "python",
      "pygments_lexer": "ipython3",
      "version": "3.7.4"
    },
    "colab": {
      "provenance": [],
      "toc_visible": true,
      "include_colab_link": true
    }
  },
  "nbformat": 4,
  "nbformat_minor": 0
}